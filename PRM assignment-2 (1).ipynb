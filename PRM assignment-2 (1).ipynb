{
 "cells": [
  {
   "cell_type": "code",
   "execution_count": 72,
   "id": "31f3b15b",
   "metadata": {},
   "outputs": [
    {
     "name": "stdout",
     "output_type": "stream",
     "text": [
      "Code 1 for Triangle\n",
      "Code 2 for Rectangle\n",
      "Enter the name of shape: 2\n",
      "Enter First value: 2\n",
      "Enter Second value: 4\n",
      "Enter Third value: 2\n",
      "Enter Fourth value: 4\n",
      "Valid Rectangle\n"
     ]
    }
   ],
   "source": [
    "def Calculator():\n",
    "    print(\"Code 1 for Triangle\")\n",
    "    print(\"Code 2 for Rectangle\")\n",
    "    name=int(input(\"Enter the name of shape: \"))\n",
    "    name=name\n",
    "    \n",
    "    if name==1:\n",
    "        num1=int(input(\"Enter First value: \"))\n",
    "        num2=int(input(\"Enter Second value: \"))\n",
    "        num3=int(input(\"Enter Third value: \"))\n",
    "        if (num1+num2>=num3) or (num1+num3>=num2) or (num2+num3>=num1):\n",
    "            return \"Valid Triangle\"\n",
    "        else:\n",
    "            return \"Invalid Triangle\"\n",
    "    elif name==2:\n",
    "        num1=int(input(\"Enter First value: \"))\n",
    "        num2=int(input(\"Enter Second value: \"))\n",
    "        num3=int(input(\"Enter Third value: \"))\n",
    "        num4=int(input(\"Enter Fourth value: \"))\n",
    "        if (num1==num3) or (num2==num4):\n",
    "            return \"Valid Rectangle\"\n",
    "        else:\n",
    "            return \"Invalid Rectangle\"\n",
    "    else:\n",
    "        return\"Enter valid Code\"\n",
    "              \n",
    "print(Calculator())"
   ]
  }
 ],
 "metadata": {
  "kernelspec": {
   "display_name": "Python 3 (ipykernel)",
   "language": "python",
   "name": "python3"
  },
  "language_info": {
   "codemirror_mode": {
    "name": "ipython",
    "version": 3
   },
   "file_extension": ".py",
   "mimetype": "text/x-python",
   "name": "python",
   "nbconvert_exporter": "python",
   "pygments_lexer": "ipython3",
   "version": "3.9.13"
  }
 },
 "nbformat": 4,
 "nbformat_minor": 5
}
