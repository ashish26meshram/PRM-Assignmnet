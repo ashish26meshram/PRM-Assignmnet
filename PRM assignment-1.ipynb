{
 "cells": [
  {
   "cell_type": "markdown",
   "id": "bd684c84",
   "metadata": {},
   "source": [
    "# Assignment-1"
   ]
  },
  {
   "cell_type": "code",
   "execution_count": 77,
   "id": "473b0547",
   "metadata": {},
   "outputs": [
    {
     "data": {
      "text/plain": [
       "['great', 'abc', 'hello', 'hiyo']"
      ]
     },
     "execution_count": 77,
     "metadata": {},
     "output_type": "execute_result"
    }
   ],
   "source": [
    "list = ['great','hello','hiyo','abc']\n",
    "list.sort(key=lambda x:x[-2])\n",
    "list"
   ]
  },
  {
   "cell_type": "code",
   "execution_count": 53,
   "id": "8879be11",
   "metadata": {},
   "outputs": [
    {
     "name": "stdout",
     "output_type": "stream",
     "text": [
      "['10', '12', '13', '13', '14', '15', '15', '20', 'address', 'job', 'name', 'phone_number', 'work']\n"
     ]
    }
   ],
   "source": [
    "l1=[\"20\",\"10\",\"15\",\"13\",\"14\",\"15\",\"12\",\"13\"]\n",
    "l2=[\"name\",\"address\",\"work\",\"job\",\"phone_number\"]\n",
    "c=l1+l2\n",
    "print(sorted(c))"
   ]
  }
 ],
 "metadata": {
  "kernelspec": {
   "display_name": "Python 3 (ipykernel)",
   "language": "python",
   "name": "python3"
  },
  "language_info": {
   "codemirror_mode": {
    "name": "ipython",
    "version": 3
   },
   "file_extension": ".py",
   "mimetype": "text/x-python",
   "name": "python",
   "nbconvert_exporter": "python",
   "pygments_lexer": "ipython3",
   "version": "3.9.13"
  }
 },
 "nbformat": 4,
 "nbformat_minor": 5
}
